{
 "cells": [
  {
   "cell_type": "code",
   "execution_count": 1,
   "id": "82a3c992",
   "metadata": {},
   "outputs": [],
   "source": [
    "import os\n",
    "import pandas as pd\n",
    "import numpy as np\n",
    "from pybaseball import batting_stats\n"
   ]
  },
  {
   "cell_type": "code",
   "execution_count": 2,
   "id": "d4399f93",
   "metadata": {},
   "outputs": [],
   "source": [
    "START = 2002\n",
    "END = 2022"
   ]
  },
  {
   "cell_type": "code",
   "execution_count": 3,
   "id": "345c8b64",
   "metadata": {},
   "outputs": [],
   "source": [
    "if os.path.exists(\"batting.csv\"):\n",
    "    batting = pd.read_csv(\"batting.csv\", index_col=0)\n",
    "else:\n",
    "    batting = batting_stats(START, END, qual=200)\n",
    "    batting.to_csv(\"batting.csv\")"
   ]
  },
  {
   "cell_type": "code",
   "execution_count": 4,
   "id": "836acd6a",
   "metadata": {},
   "outputs": [],
   "source": [
    "batting = batting.groupby(\"IDfg\", group_keys=False).filter(lambda x: x.shape[0] > 1)\n"
   ]
  },
  {
   "cell_type": "code",
   "execution_count": 5,
   "id": "a05280ed",
   "metadata": {},
   "outputs": [],
   "source": [
    "def next_season(player):\n",
    "    player = player.sort_values(\"Season\")\n",
    "    player[\"Next_WAR\"] = player[\"WAR\"].shift(-1)\n",
    "    return player\n",
    "\n",
    "batting = batting.groupby(\"IDfg\", group_keys=False).apply(next_season)"
   ]
  },
  {
   "cell_type": "code",
   "execution_count": 6,
   "id": "ef6c7e39",
   "metadata": {},
   "outputs": [],
   "source": [
    "null_count = batting.isnull().sum()\n"
   ]
  },
  {
   "cell_type": "code",
   "execution_count": 7,
   "id": "0dfa03bc",
   "metadata": {},
   "outputs": [],
   "source": [
    "complete_cols = list(batting.columns[null_count == 0])\n",
    "batting = batting[complete_cols + [\"Next_WAR\"]].copy()"
   ]
  },
  {
   "cell_type": "code",
   "execution_count": 8,
   "id": "629ef86b",
   "metadata": {},
   "outputs": [
    {
     "data": {
      "text/plain": [
       "Name       object\n",
       "Team       object\n",
       "Dol        object\n",
       "Age Rng    object\n",
       "dtype: object"
      ]
     },
     "execution_count": 8,
     "metadata": {},
     "output_type": "execute_result"
    }
   ],
   "source": [
    "batting.dtypes[batting.dtypes == \"object\"]\n"
   ]
  },
  {
   "cell_type": "code",
   "execution_count": 9,
   "id": "acf317e7",
   "metadata": {},
   "outputs": [],
   "source": [
    "del batting[\"Age Rng\"]\n",
    "del batting[\"Dol\"]"
   ]
  },
  {
   "cell_type": "code",
   "execution_count": 10,
   "id": "947f40f8",
   "metadata": {},
   "outputs": [],
   "source": [
    "batting[\"team_code\"] = batting[\"Team\"].astype(\"category\").cat.codes\n"
   ]
  },
  {
   "cell_type": "code",
   "execution_count": 11,
   "id": "fbd2c96f",
   "metadata": {},
   "outputs": [],
   "source": [
    "batting_full = batting.copy()\n",
    "batting = batting.dropna().copy()"
   ]
  },
  {
   "cell_type": "code",
   "execution_count": 12,
   "id": "053d0b35",
   "metadata": {},
   "outputs": [],
   "source": [
    "from sklearn.linear_model import Ridge\n",
    "from sklearn.feature_selection import SequentialFeatureSelector\n",
    "from sklearn.model_selection import TimeSeriesSplit\n",
    "\n",
    "rr = Ridge(alpha=1)\n",
    "\n",
    "split = TimeSeriesSplit(n_splits=3)\n",
    "\n",
    "sfs = SequentialFeatureSelector(rr, \n",
    "                                n_features_to_select=20, \n",
    "                                direction=\"forward\",\n",
    "                                cv=split,\n",
    "                                n_jobs=8\n",
    "                               )"
   ]
  },
  {
   "cell_type": "code",
   "execution_count": 13,
   "id": "efc88506",
   "metadata": {},
   "outputs": [],
   "source": [
    "removed_columns = [\"Next_WAR\", \"Name\", \"Team\", \"IDfg\", \"Season\"]\n",
    "selected_columns = batting.columns[~batting.columns.isin(removed_columns)]"
   ]
  },
  {
   "cell_type": "code",
   "execution_count": 14,
   "id": "837c8927",
   "metadata": {},
   "outputs": [],
   "source": [
    "from sklearn.preprocessing import MinMaxScaler\n",
    "\n",
    "scaler = MinMaxScaler()\n",
    "batting.loc[:,selected_columns] = scaler.fit_transform(batting[selected_columns])"
   ]
  },
  {
   "cell_type": "code",
   "execution_count": 15,
   "id": "b02ea791",
   "metadata": {},
   "outputs": [
    {
     "data": {
      "text/plain": [
       "SequentialFeatureSelector(cv=TimeSeriesSplit(gap=0, max_train_size=None, n_splits=3, test_size=None),\n",
       "                          estimator=Ridge(alpha=1), n_features_to_select=20,\n",
       "                          n_jobs=8)"
      ]
     },
     "execution_count": 15,
     "metadata": {},
     "output_type": "execute_result"
    }
   ],
   "source": [
    "sfs.fit(batting[selected_columns], batting[\"Next_WAR\"])\n"
   ]
  },
  {
   "cell_type": "code",
   "execution_count": 16,
   "id": "0274483b",
   "metadata": {},
   "outputs": [],
   "source": [
    "predictors = list(selected_columns[sfs.get_support()])\n"
   ]
  },
  {
   "cell_type": "code",
   "execution_count": 17,
   "id": "d35e9c47",
   "metadata": {},
   "outputs": [
    {
     "data": {
      "text/plain": [
       "['Age',\n",
       " 'IBB',\n",
       " 'SO',\n",
       " 'SB',\n",
       " 'BU',\n",
       " 'BABIP',\n",
       " 'IFH%',\n",
       " 'WAR',\n",
       " 'Spd',\n",
       " 'PH',\n",
       " 'CB%',\n",
       " 'O-Contact%',\n",
       " 'wGDP',\n",
       " 'Oppo%',\n",
       " 'OBP+',\n",
       " 'SLG+',\n",
       " 'Pull%+',\n",
       " 'Soft%+',\n",
       " 'Hard%+',\n",
       " 'L-WAR']"
      ]
     },
     "execution_count": 17,
     "metadata": {},
     "output_type": "execute_result"
    }
   ],
   "source": [
    "predictors"
   ]
  },
  {
   "cell_type": "code",
   "execution_count": 19,
   "id": "cc28ead4",
   "metadata": {},
   "outputs": [],
   "source": [
    "def backtest(data, model, predictors, start=5, step=1):\n",
    "    all_predictions = []\n",
    "    \n",
    "    years = sorted(data[\"Season\"].unique())\n",
    "    \n",
    "    for i in range(start, len(years), step):\n",
    "        current_year = years[i]\n",
    "        train = data[data[\"Season\"] < current_year]\n",
    "        test = data[data[\"Season\"] == current_year]\n",
    "        \n",
    "        model.fit(train[predictors], train[\"Next_WAR\"])\n",
    "        \n",
    "        preds = model.predict(test[predictors])\n",
    "        preds = pd.Series(preds, index=test.index)\n",
    "        combined = pd.concat([test[\"Next_WAR\"], preds], axis=1)\n",
    "        combined.columns = [\"actual\", \"prediction\"]\n",
    "        \n",
    "        all_predictions.append(combined)\n",
    "    return pd.concat(all_predictions)"
   ]
  },
  {
   "cell_type": "code",
   "execution_count": 20,
   "id": "5b160620",
   "metadata": {},
   "outputs": [],
   "source": [
    "predictions = backtest(batting, rr, predictors)\n"
   ]
  },
  {
   "cell_type": "code",
   "execution_count": 21,
   "id": "3b188936",
   "metadata": {},
   "outputs": [
    {
     "data": {
      "text/plain": [
       "(4127, 2)"
      ]
     },
     "execution_count": 21,
     "metadata": {},
     "output_type": "execute_result"
    }
   ],
   "source": [
    "predictions.shape"
   ]
  },
  {
   "cell_type": "code",
   "execution_count": 22,
   "id": "894b26c3",
   "metadata": {},
   "outputs": [
    {
     "data": {
      "text/plain": [
       "2.7972427459505527"
      ]
     },
     "execution_count": 22,
     "metadata": {},
     "output_type": "execute_result"
    }
   ],
   "source": [
    "from sklearn.metrics import mean_squared_error\n",
    "\n",
    "mean_squared_error(predictions[\"actual\"], predictions[\"prediction\"])"
   ]
  },
  {
   "cell_type": "code",
   "execution_count": 23,
   "id": "9f7b45af",
   "metadata": {},
   "outputs": [],
   "source": [
    "def player_history(df):\n",
    "    df = df.sort_values(\"Season\")\n",
    "        \n",
    "    df[\"player_season\"] = range(0, df.shape[0])\n",
    "    df[\"war_corr\"] = list(df[[\"player_season\", \"WAR\"]].expanding().corr().loc[(slice(None), \"player_season\"),\"WAR\"])\n",
    "    df[\"war_corr\"].fillna(0, inplace=True)\n",
    "    \n",
    "    df[\"war_diff\"] = df[\"WAR\"] / df[\"WAR\"].shift(1)\n",
    "    df[\"war_diff\"].fillna(1, inplace=True)\n",
    "    df[\"war_diff\"][df[\"war_diff\"] == np.inf] = 1\n",
    "    \n",
    "    return df\n",
    "\n",
    "batting = batting.groupby(\"IDfg\", group_keys=False).apply(player_history)"
   ]
  },
  {
   "cell_type": "code",
   "execution_count": 24,
   "id": "d6604fb6",
   "metadata": {},
   "outputs": [],
   "source": [
    "def group_averages(df):\n",
    "    return df[\"WAR\"] / df[\"WAR\"].mean()"
   ]
  },
  {
   "cell_type": "code",
   "execution_count": 25,
   "id": "dcdf695f",
   "metadata": {},
   "outputs": [],
   "source": [
    "batting[\"war_season\"] = batting.groupby(\"Season\", group_keys=False).apply(group_averages)\n"
   ]
  },
  {
   "cell_type": "code",
   "execution_count": 26,
   "id": "9fe937a4",
   "metadata": {},
   "outputs": [],
   "source": [
    "new_predictors = predictors + [\"player_season\", \"war_corr\", \"war_season\", \"war_diff\"]\n"
   ]
  },
  {
   "cell_type": "code",
   "execution_count": 27,
   "id": "93ded3c5",
   "metadata": {},
   "outputs": [],
   "source": [
    "predictions = backtest(batting, rr, new_predictors)\n"
   ]
  },
  {
   "cell_type": "code",
   "execution_count": 28,
   "id": "856ee86e",
   "metadata": {},
   "outputs": [
    {
     "data": {
      "text/plain": [
       "2.7132462617165722"
      ]
     },
     "execution_count": 28,
     "metadata": {},
     "output_type": "execute_result"
    }
   ],
   "source": [
    "mean_squared_error(predictions[\"actual\"], predictions[\"prediction\"]) \n"
   ]
  },
  {
   "cell_type": "code",
   "execution_count": 29,
   "id": "38f021d4",
   "metadata": {},
   "outputs": [
    {
     "data": {
      "text/plain": [
       "Age             -2.585902\n",
       "BABIP           -1.853663\n",
       "WAR             -1.853517\n",
       "SLG+            -1.461184\n",
       "Soft%+          -1.275252\n",
       "BU              -0.953047\n",
       "PH              -0.709528\n",
       "SO              -0.647148\n",
       "war_diff        -0.586128\n",
       "wGDP            -0.443833\n",
       "CB%             -0.333501\n",
       "Pull%+          -0.195604\n",
       "war_corr        -0.093396\n",
       "player_season    0.000698\n",
       "L-WAR            0.213106\n",
       "O-Contact%       0.258397\n",
       "IFH%             0.402026\n",
       "OBP+             0.483645\n",
       "Oppo%            0.697790\n",
       "Spd              0.749664\n",
       "SB               1.053095\n",
       "IBB              1.682070\n",
       "Hard%+           2.369994\n",
       "war_season       3.397239\n",
       "dtype: float64"
      ]
     },
     "execution_count": 29,
     "metadata": {},
     "output_type": "execute_result"
    }
   ],
   "source": [
    "pd.Series(rr.coef_, index=new_predictors).sort_values()\n"
   ]
  },
  {
   "cell_type": "code",
   "execution_count": 30,
   "id": "5be3dc4f",
   "metadata": {},
   "outputs": [],
   "source": [
    "diff = predictions[\"actual\"] - predictions[\"prediction\"]\n"
   ]
  },
  {
   "cell_type": "code",
   "execution_count": 31,
   "id": "d00febf5",
   "metadata": {},
   "outputs": [],
   "source": [
    "merged = predictions.merge(batting, left_index=True, right_index=True)\n"
   ]
  },
  {
   "cell_type": "code",
   "execution_count": 32,
   "id": "3540b049",
   "metadata": {},
   "outputs": [],
   "source": [
    "merged[\"diff\"] = (predictions[\"actual\"] - predictions[\"prediction\"]).abs()\n"
   ]
  },
  {
   "cell_type": "code",
   "execution_count": 33,
   "id": "4ab63ea7",
   "metadata": {},
   "outputs": [
    {
     "data": {
      "text/html": [
       "<div>\n",
       "<style scoped>\n",
       "    .dataframe tbody tr th:only-of-type {\n",
       "        vertical-align: middle;\n",
       "    }\n",
       "\n",
       "    .dataframe tbody tr th {\n",
       "        vertical-align: top;\n",
       "    }\n",
       "\n",
       "    .dataframe thead th {\n",
       "        text-align: right;\n",
       "    }\n",
       "</style>\n",
       "<table border=\"1\" class=\"dataframe\">\n",
       "  <thead>\n",
       "    <tr style=\"text-align: right;\">\n",
       "      <th></th>\n",
       "      <th>IDfg</th>\n",
       "      <th>Season</th>\n",
       "      <th>Name</th>\n",
       "      <th>WAR</th>\n",
       "      <th>Next_WAR</th>\n",
       "      <th>diff</th>\n",
       "    </tr>\n",
       "  </thead>\n",
       "  <tbody>\n",
       "    <tr>\n",
       "      <th>5447</th>\n",
       "      <td>11846</td>\n",
       "      <td>2016</td>\n",
       "      <td>Leonys Martin</td>\n",
       "      <td>0.422360</td>\n",
       "      <td>1.9</td>\n",
       "      <td>0.001054</td>\n",
       "    </tr>\n",
       "    <tr>\n",
       "      <th>1018</th>\n",
       "      <td>7859</td>\n",
       "      <td>2018</td>\n",
       "      <td>Charlie Blackmon</td>\n",
       "      <td>0.347826</td>\n",
       "      <td>1.7</td>\n",
       "      <td>0.001550</td>\n",
       "    </tr>\n",
       "    <tr>\n",
       "      <th>6050</th>\n",
       "      <td>1638</td>\n",
       "      <td>2007</td>\n",
       "      <td>Miguel Olivo</td>\n",
       "      <td>0.254658</td>\n",
       "      <td>0.4</td>\n",
       "      <td>0.001826</td>\n",
       "    </tr>\n",
       "    <tr>\n",
       "      <th>6337</th>\n",
       "      <td>4712</td>\n",
       "      <td>2011</td>\n",
       "      <td>Ben Revere</td>\n",
       "      <td>0.304348</td>\n",
       "      <td>2.1</td>\n",
       "      <td>0.001852</td>\n",
       "    </tr>\n",
       "    <tr>\n",
       "      <th>4859</th>\n",
       "      <td>4712</td>\n",
       "      <td>2013</td>\n",
       "      <td>Ben Revere</td>\n",
       "      <td>0.267081</td>\n",
       "      <td>1.8</td>\n",
       "      <td>0.003036</td>\n",
       "    </tr>\n",
       "    <tr>\n",
       "      <th>...</th>\n",
       "      <td>...</td>\n",
       "      <td>...</td>\n",
       "      <td>...</td>\n",
       "      <td>...</td>\n",
       "      <td>...</td>\n",
       "      <td>...</td>\n",
       "    </tr>\n",
       "    <tr>\n",
       "      <th>3823</th>\n",
       "      <td>1875</td>\n",
       "      <td>2009</td>\n",
       "      <td>Josh Hamilton</td>\n",
       "      <td>0.291925</td>\n",
       "      <td>8.4</td>\n",
       "      <td>6.361302</td>\n",
       "    </tr>\n",
       "    <tr>\n",
       "      <th>3161</th>\n",
       "      <td>4810</td>\n",
       "      <td>2007</td>\n",
       "      <td>Brian McCann</td>\n",
       "      <td>0.304348</td>\n",
       "      <td>8.6</td>\n",
       "      <td>6.373673</td>\n",
       "    </tr>\n",
       "    <tr>\n",
       "      <th>871</th>\n",
       "      <td>9166</td>\n",
       "      <td>2010</td>\n",
       "      <td>Buster Posey</td>\n",
       "      <td>0.459627</td>\n",
       "      <td>10.1</td>\n",
       "      <td>6.581365</td>\n",
       "    </tr>\n",
       "    <tr>\n",
       "      <th>2516</th>\n",
       "      <td>11579</td>\n",
       "      <td>2014</td>\n",
       "      <td>Bryce Harper</td>\n",
       "      <td>0.310559</td>\n",
       "      <td>9.3</td>\n",
       "      <td>7.454659</td>\n",
       "    </tr>\n",
       "    <tr>\n",
       "      <th>451</th>\n",
       "      <td>15640</td>\n",
       "      <td>2021</td>\n",
       "      <td>Aaron Judge</td>\n",
       "      <td>0.552795</td>\n",
       "      <td>11.4</td>\n",
       "      <td>7.511871</td>\n",
       "    </tr>\n",
       "  </tbody>\n",
       "</table>\n",
       "<p>4127 rows × 6 columns</p>\n",
       "</div>"
      ],
      "text/plain": [
       "       IDfg  Season              Name       WAR  Next_WAR      diff\n",
       "5447  11846    2016     Leonys Martin  0.422360       1.9  0.001054\n",
       "1018   7859    2018  Charlie Blackmon  0.347826       1.7  0.001550\n",
       "6050   1638    2007      Miguel Olivo  0.254658       0.4  0.001826\n",
       "6337   4712    2011        Ben Revere  0.304348       2.1  0.001852\n",
       "4859   4712    2013        Ben Revere  0.267081       1.8  0.003036\n",
       "...     ...     ...               ...       ...       ...       ...\n",
       "3823   1875    2009     Josh Hamilton  0.291925       8.4  6.361302\n",
       "3161   4810    2007      Brian McCann  0.304348       8.6  6.373673\n",
       "871    9166    2010      Buster Posey  0.459627      10.1  6.581365\n",
       "2516  11579    2014      Bryce Harper  0.310559       9.3  7.454659\n",
       "451   15640    2021       Aaron Judge  0.552795      11.4  7.511871\n",
       "\n",
       "[4127 rows x 6 columns]"
      ]
     },
     "execution_count": 33,
     "metadata": {},
     "output_type": "execute_result"
    }
   ],
   "source": [
    "merged[[\"IDfg\", \"Season\", \"Name\", \"WAR\", \"Next_WAR\", \"diff\"]].sort_values([\"diff\"])\n"
   ]
  },
  {
   "cell_type": "code",
   "execution_count": null,
   "id": "1040ebf5",
   "metadata": {},
   "outputs": [],
   "source": []
  }
 ],
 "metadata": {
  "kernelspec": {
   "display_name": "Python 3 (ipykernel)",
   "language": "python",
   "name": "python3"
  },
  "language_info": {
   "codemirror_mode": {
    "name": "ipython",
    "version": 3
   },
   "file_extension": ".py",
   "mimetype": "text/x-python",
   "name": "python",
   "nbconvert_exporter": "python",
   "pygments_lexer": "ipython3",
   "version": "3.9.13"
  }
 },
 "nbformat": 4,
 "nbformat_minor": 5
}
